{
  "nbformat": 4,
  "nbformat_minor": 0,
  "metadata": {
    "colab": {
      "provenance": [],
      "authorship_tag": "ABX9TyP/N/3YDC213lqftquHcrCA",
      "include_colab_link": true
    },
    "kernelspec": {
      "name": "python3",
      "display_name": "Python 3"
    },
    "language_info": {
      "name": "python"
    }
  },
  "cells": [
    {
      "cell_type": "markdown",
      "metadata": {
        "id": "view-in-github",
        "colab_type": "text"
      },
      "source": [
        "<a href=\"https://colab.research.google.com/github/rudaceani/ProjectsRubencho/blob/main/100_days_code_python.ipynb\" target=\"_parent\"><img src=\"https://colab.research.google.com/assets/colab-badge.svg\" alt=\"Open In Colab\"/></a>"
      ]
    },
    {
      "cell_type": "code",
      "execution_count": null,
      "metadata": {
        "id": "S0MQo5RkK1VF"
      },
      "outputs": [],
      "source": [
        "pip install langdetect "
      ]
    },
    {
      "cell_type": "code",
      "source": [
        "from langdetect import detect\n",
        "\n",
        "text = input(\"Ingresar un texto en cualquier lenguaje: \")\n",
        "print(detect(text))\n"
      ],
      "metadata": {
        "id": "y5CT-nJFdubU",
        "colab": {
          "base_uri": "https://localhost:8080/"
        },
        "outputId": "b2557644-4349-4679-c47f-b898f1734982"
      },
      "execution_count": 3,
      "outputs": [
        {
          "output_type": "stream",
          "name": "stdout",
          "text": [
            "Ingresar un texto en cualquier lenguaje: I am Ruben\n",
            "id\n"
          ]
        }
      ]
    },
    {
      "cell_type": "code",
      "source": [
        "pip install countryinfo"
      ],
      "metadata": {
        "id": "n2056OTLnLVN"
      },
      "execution_count": null,
      "outputs": []
    },
    {
      "cell_type": "code",
      "source": [
        "from countryinfo import CountryInfo \n"
      ],
      "metadata": {
        "id": "YMZ7ORHym1tW"
      },
      "execution_count": null,
      "outputs": []
    },
    {
      "cell_type": "code",
      "source": [
        "from countryinfo import CountryInfo \n",
        "\n",
        "count = input(\"Ingresa tu pais: \")\n",
        "country = CountryInfo(count)\n",
        "\n",
        "print(\"La capital es: \", country.capital())\n",
        "print(\"Las curiosidades son: \", country.currencies())"
      ],
      "metadata": {
        "colab": {
          "base_uri": "https://localhost:8080/"
        },
        "id": "XCLq93-WlF3F",
        "outputId": "eed4e728-966a-4975-ee70-71c8f24b7ff4"
      },
      "execution_count": 8,
      "outputs": [
        {
          "output_type": "stream",
          "name": "stdout",
          "text": [
            "Ingresa tu pais: Colombia\n",
            "La capital es:  Bogotá\n",
            "Las curiosidades son:  ['COP']\n"
          ]
        }
      ]
    }
  ]
}